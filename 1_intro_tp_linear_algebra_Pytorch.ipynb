{
  "nbformat": 4,
  "nbformat_minor": 0,
  "metadata": {
    "colab": {
      "provenance": []
    },
    "kernelspec": {
      "name": "python3",
      "display_name": "Python 3"
    },
    "language_info": {
      "name": "python"
    }
  },
  "cells": [
    {
      "cell_type": "markdown",
      "source": [
        "# Segment 1: Data Structures for Algebra"
      ],
      "metadata": {
        "id": "jmq4YJfl4HM9"
      }
    },
    {
      "cell_type": "markdown",
      "source": [
        "## 1. Scalars"
      ],
      "metadata": {
        "id": "aP43xypR10-_"
      }
    },
    {
      "cell_type": "code",
      "execution_count": 17,
      "metadata": {
        "id": "kO4joIZh1u98"
      },
      "outputs": [],
      "source": [
        "import torch"
      ]
    },
    {
      "cell_type": "code",
      "source": [
        "x = torch.tensor(25)\n",
        "x"
      ],
      "metadata": {
        "colab": {
          "base_uri": "https://localhost:8080/"
        },
        "id": "xWiIF7UB2ES3",
        "outputId": "1930fc3a-fd32-49e7-aebe-7bd72917f2c9"
      },
      "execution_count": 18,
      "outputs": [
        {
          "output_type": "execute_result",
          "data": {
            "text/plain": [
              "tensor(25)"
            ]
          },
          "metadata": {},
          "execution_count": 18
        }
      ]
    },
    {
      "cell_type": "code",
      "source": [
        "x.shape"
      ],
      "metadata": {
        "colab": {
          "base_uri": "https://localhost:8080/"
        },
        "id": "2HTNAilX2Uxx",
        "outputId": "c69ec16d-ff7b-44be-eee0-7b7b3e876b8e"
      },
      "execution_count": 19,
      "outputs": [
        {
          "output_type": "execute_result",
          "data": {
            "text/plain": [
              "torch.Size([])"
            ]
          },
          "metadata": {},
          "execution_count": 19
        }
      ]
    },
    {
      "cell_type": "markdown",
      "source": [
        "## 2. Vectors"
      ],
      "metadata": {
        "id": "oSXpytVM2deD"
      }
    },
    {
      "cell_type": "code",
      "source": [
        "x = torch.tensor([25, 3, 5])\n",
        "x"
      ],
      "metadata": {
        "colab": {
          "base_uri": "https://localhost:8080/"
        },
        "id": "Y-onel3O2XJp",
        "outputId": "fbf8d994-f176-4a24-f1f8-9a1aefea1bc5"
      },
      "execution_count": null,
      "outputs": [
        {
          "output_type": "execute_result",
          "data": {
            "text/plain": [
              "tensor([25,  3,  5])"
            ]
          },
          "metadata": {},
          "execution_count": 4
        }
      ]
    },
    {
      "cell_type": "markdown",
      "source": [
        "## 3. Matrices"
      ],
      "metadata": {
        "id": "4m4CiPjYJIYp"
      }
    },
    {
      "cell_type": "code",
      "source": [
        "X = torch.tensor([[25, 2], [5, 26], [12, 3]])\n",
        "X"
      ],
      "metadata": {
        "id": "0zbwzmgU2kEj",
        "colab": {
          "base_uri": "https://localhost:8080/"
        },
        "outputId": "e9b97848-10c2-4d72-ba86-6364b51921c2"
      },
      "execution_count": null,
      "outputs": [
        {
          "output_type": "execute_result",
          "data": {
            "text/plain": [
              "tensor([[25,  2],\n",
              "        [ 5, 26],\n",
              "        [12,  3]])"
            ]
          },
          "metadata": {},
          "execution_count": 2
        }
      ]
    },
    {
      "cell_type": "code",
      "source": [
        "X.shape"
      ],
      "metadata": {
        "colab": {
          "base_uri": "https://localhost:8080/"
        },
        "id": "-NNsAfQvJjxO",
        "outputId": "29dcdc2b-233c-4a37-c66c-7c6ac166c73e"
      },
      "execution_count": null,
      "outputs": [
        {
          "output_type": "execute_result",
          "data": {
            "text/plain": [
              "torch.Size([3, 2])"
            ]
          },
          "metadata": {},
          "execution_count": 3
        }
      ]
    },
    {
      "cell_type": "code",
      "source": [
        "X.size"
      ],
      "metadata": {
        "colab": {
          "base_uri": "https://localhost:8080/"
        },
        "id": "-f35FsgrJl1c",
        "outputId": "eecd2e2d-b3a1-44ee-a364-5568d8ab5da6"
      },
      "execution_count": null,
      "outputs": [
        {
          "output_type": "execute_result",
          "data": {
            "text/plain": [
              "<function Tensor.size>"
            ]
          },
          "metadata": {},
          "execution_count": 4
        }
      ]
    },
    {
      "cell_type": "code",
      "source": [
        "X[:,1]"
      ],
      "metadata": {
        "id": "zl7uOOigJnjd",
        "outputId": "2a9a6f10-b2c2-464c-8ac1-e2df76ebf075",
        "colab": {
          "base_uri": "https://localhost:8080/"
        }
      },
      "execution_count": null,
      "outputs": [
        {
          "output_type": "execute_result",
          "data": {
            "text/plain": [
              "tensor([ 2, 26,  3])"
            ]
          },
          "metadata": {},
          "execution_count": 5
        }
      ]
    },
    {
      "cell_type": "markdown",
      "source": [
        "## 4. Generic Tensor Notation"
      ],
      "metadata": {
        "id": "jEHV5H7H10Vp"
      }
    },
    {
      "cell_type": "code",
      "source": [
        "# a 4-tensor\n",
        "images = torch.zeros([32, 28, 28, 3])"
      ],
      "metadata": {
        "id": "WXewGLPJJtZA"
      },
      "execution_count": null,
      "outputs": []
    },
    {
      "cell_type": "code",
      "source": [
        "images"
      ],
      "metadata": {
        "colab": {
          "base_uri": "https://localhost:8080/"
        },
        "id": "95fe-011MngL",
        "outputId": "c74b4a44-e3e0-49ea-b139-3232f35daadd"
      },
      "execution_count": null,
      "outputs": [
        {
          "output_type": "execute_result",
          "data": {
            "text/plain": [
              "tensor([[[[0., 0., 0.],\n",
              "          [0., 0., 0.],\n",
              "          [0., 0., 0.],\n",
              "          ...,\n",
              "          [0., 0., 0.],\n",
              "          [0., 0., 0.],\n",
              "          [0., 0., 0.]],\n",
              "\n",
              "         [[0., 0., 0.],\n",
              "          [0., 0., 0.],\n",
              "          [0., 0., 0.],\n",
              "          ...,\n",
              "          [0., 0., 0.],\n",
              "          [0., 0., 0.],\n",
              "          [0., 0., 0.]],\n",
              "\n",
              "         [[0., 0., 0.],\n",
              "          [0., 0., 0.],\n",
              "          [0., 0., 0.],\n",
              "          ...,\n",
              "          [0., 0., 0.],\n",
              "          [0., 0., 0.],\n",
              "          [0., 0., 0.]],\n",
              "\n",
              "         ...,\n",
              "\n",
              "         [[0., 0., 0.],\n",
              "          [0., 0., 0.],\n",
              "          [0., 0., 0.],\n",
              "          ...,\n",
              "          [0., 0., 0.],\n",
              "          [0., 0., 0.],\n",
              "          [0., 0., 0.]],\n",
              "\n",
              "         [[0., 0., 0.],\n",
              "          [0., 0., 0.],\n",
              "          [0., 0., 0.],\n",
              "          ...,\n",
              "          [0., 0., 0.],\n",
              "          [0., 0., 0.],\n",
              "          [0., 0., 0.]],\n",
              "\n",
              "         [[0., 0., 0.],\n",
              "          [0., 0., 0.],\n",
              "          [0., 0., 0.],\n",
              "          ...,\n",
              "          [0., 0., 0.],\n",
              "          [0., 0., 0.],\n",
              "          [0., 0., 0.]]],\n",
              "\n",
              "\n",
              "        [[[0., 0., 0.],\n",
              "          [0., 0., 0.],\n",
              "          [0., 0., 0.],\n",
              "          ...,\n",
              "          [0., 0., 0.],\n",
              "          [0., 0., 0.],\n",
              "          [0., 0., 0.]],\n",
              "\n",
              "         [[0., 0., 0.],\n",
              "          [0., 0., 0.],\n",
              "          [0., 0., 0.],\n",
              "          ...,\n",
              "          [0., 0., 0.],\n",
              "          [0., 0., 0.],\n",
              "          [0., 0., 0.]],\n",
              "\n",
              "         [[0., 0., 0.],\n",
              "          [0., 0., 0.],\n",
              "          [0., 0., 0.],\n",
              "          ...,\n",
              "          [0., 0., 0.],\n",
              "          [0., 0., 0.],\n",
              "          [0., 0., 0.]],\n",
              "\n",
              "         ...,\n",
              "\n",
              "         [[0., 0., 0.],\n",
              "          [0., 0., 0.],\n",
              "          [0., 0., 0.],\n",
              "          ...,\n",
              "          [0., 0., 0.],\n",
              "          [0., 0., 0.],\n",
              "          [0., 0., 0.]],\n",
              "\n",
              "         [[0., 0., 0.],\n",
              "          [0., 0., 0.],\n",
              "          [0., 0., 0.],\n",
              "          ...,\n",
              "          [0., 0., 0.],\n",
              "          [0., 0., 0.],\n",
              "          [0., 0., 0.]],\n",
              "\n",
              "         [[0., 0., 0.],\n",
              "          [0., 0., 0.],\n",
              "          [0., 0., 0.],\n",
              "          ...,\n",
              "          [0., 0., 0.],\n",
              "          [0., 0., 0.],\n",
              "          [0., 0., 0.]]],\n",
              "\n",
              "\n",
              "        [[[0., 0., 0.],\n",
              "          [0., 0., 0.],\n",
              "          [0., 0., 0.],\n",
              "          ...,\n",
              "          [0., 0., 0.],\n",
              "          [0., 0., 0.],\n",
              "          [0., 0., 0.]],\n",
              "\n",
              "         [[0., 0., 0.],\n",
              "          [0., 0., 0.],\n",
              "          [0., 0., 0.],\n",
              "          ...,\n",
              "          [0., 0., 0.],\n",
              "          [0., 0., 0.],\n",
              "          [0., 0., 0.]],\n",
              "\n",
              "         [[0., 0., 0.],\n",
              "          [0., 0., 0.],\n",
              "          [0., 0., 0.],\n",
              "          ...,\n",
              "          [0., 0., 0.],\n",
              "          [0., 0., 0.],\n",
              "          [0., 0., 0.]],\n",
              "\n",
              "         ...,\n",
              "\n",
              "         [[0., 0., 0.],\n",
              "          [0., 0., 0.],\n",
              "          [0., 0., 0.],\n",
              "          ...,\n",
              "          [0., 0., 0.],\n",
              "          [0., 0., 0.],\n",
              "          [0., 0., 0.]],\n",
              "\n",
              "         [[0., 0., 0.],\n",
              "          [0., 0., 0.],\n",
              "          [0., 0., 0.],\n",
              "          ...,\n",
              "          [0., 0., 0.],\n",
              "          [0., 0., 0.],\n",
              "          [0., 0., 0.]],\n",
              "\n",
              "         [[0., 0., 0.],\n",
              "          [0., 0., 0.],\n",
              "          [0., 0., 0.],\n",
              "          ...,\n",
              "          [0., 0., 0.],\n",
              "          [0., 0., 0.],\n",
              "          [0., 0., 0.]]],\n",
              "\n",
              "\n",
              "        ...,\n",
              "\n",
              "\n",
              "        [[[0., 0., 0.],\n",
              "          [0., 0., 0.],\n",
              "          [0., 0., 0.],\n",
              "          ...,\n",
              "          [0., 0., 0.],\n",
              "          [0., 0., 0.],\n",
              "          [0., 0., 0.]],\n",
              "\n",
              "         [[0., 0., 0.],\n",
              "          [0., 0., 0.],\n",
              "          [0., 0., 0.],\n",
              "          ...,\n",
              "          [0., 0., 0.],\n",
              "          [0., 0., 0.],\n",
              "          [0., 0., 0.]],\n",
              "\n",
              "         [[0., 0., 0.],\n",
              "          [0., 0., 0.],\n",
              "          [0., 0., 0.],\n",
              "          ...,\n",
              "          [0., 0., 0.],\n",
              "          [0., 0., 0.],\n",
              "          [0., 0., 0.]],\n",
              "\n",
              "         ...,\n",
              "\n",
              "         [[0., 0., 0.],\n",
              "          [0., 0., 0.],\n",
              "          [0., 0., 0.],\n",
              "          ...,\n",
              "          [0., 0., 0.],\n",
              "          [0., 0., 0.],\n",
              "          [0., 0., 0.]],\n",
              "\n",
              "         [[0., 0., 0.],\n",
              "          [0., 0., 0.],\n",
              "          [0., 0., 0.],\n",
              "          ...,\n",
              "          [0., 0., 0.],\n",
              "          [0., 0., 0.],\n",
              "          [0., 0., 0.]],\n",
              "\n",
              "         [[0., 0., 0.],\n",
              "          [0., 0., 0.],\n",
              "          [0., 0., 0.],\n",
              "          ...,\n",
              "          [0., 0., 0.],\n",
              "          [0., 0., 0.],\n",
              "          [0., 0., 0.]]],\n",
              "\n",
              "\n",
              "        [[[0., 0., 0.],\n",
              "          [0., 0., 0.],\n",
              "          [0., 0., 0.],\n",
              "          ...,\n",
              "          [0., 0., 0.],\n",
              "          [0., 0., 0.],\n",
              "          [0., 0., 0.]],\n",
              "\n",
              "         [[0., 0., 0.],\n",
              "          [0., 0., 0.],\n",
              "          [0., 0., 0.],\n",
              "          ...,\n",
              "          [0., 0., 0.],\n",
              "          [0., 0., 0.],\n",
              "          [0., 0., 0.]],\n",
              "\n",
              "         [[0., 0., 0.],\n",
              "          [0., 0., 0.],\n",
              "          [0., 0., 0.],\n",
              "          ...,\n",
              "          [0., 0., 0.],\n",
              "          [0., 0., 0.],\n",
              "          [0., 0., 0.]],\n",
              "\n",
              "         ...,\n",
              "\n",
              "         [[0., 0., 0.],\n",
              "          [0., 0., 0.],\n",
              "          [0., 0., 0.],\n",
              "          ...,\n",
              "          [0., 0., 0.],\n",
              "          [0., 0., 0.],\n",
              "          [0., 0., 0.]],\n",
              "\n",
              "         [[0., 0., 0.],\n",
              "          [0., 0., 0.],\n",
              "          [0., 0., 0.],\n",
              "          ...,\n",
              "          [0., 0., 0.],\n",
              "          [0., 0., 0.],\n",
              "          [0., 0., 0.]],\n",
              "\n",
              "         [[0., 0., 0.],\n",
              "          [0., 0., 0.],\n",
              "          [0., 0., 0.],\n",
              "          ...,\n",
              "          [0., 0., 0.],\n",
              "          [0., 0., 0.],\n",
              "          [0., 0., 0.]]],\n",
              "\n",
              "\n",
              "        [[[0., 0., 0.],\n",
              "          [0., 0., 0.],\n",
              "          [0., 0., 0.],\n",
              "          ...,\n",
              "          [0., 0., 0.],\n",
              "          [0., 0., 0.],\n",
              "          [0., 0., 0.]],\n",
              "\n",
              "         [[0., 0., 0.],\n",
              "          [0., 0., 0.],\n",
              "          [0., 0., 0.],\n",
              "          ...,\n",
              "          [0., 0., 0.],\n",
              "          [0., 0., 0.],\n",
              "          [0., 0., 0.]],\n",
              "\n",
              "         [[0., 0., 0.],\n",
              "          [0., 0., 0.],\n",
              "          [0., 0., 0.],\n",
              "          ...,\n",
              "          [0., 0., 0.],\n",
              "          [0., 0., 0.],\n",
              "          [0., 0., 0.]],\n",
              "\n",
              "         ...,\n",
              "\n",
              "         [[0., 0., 0.],\n",
              "          [0., 0., 0.],\n",
              "          [0., 0., 0.],\n",
              "          ...,\n",
              "          [0., 0., 0.],\n",
              "          [0., 0., 0.],\n",
              "          [0., 0., 0.]],\n",
              "\n",
              "         [[0., 0., 0.],\n",
              "          [0., 0., 0.],\n",
              "          [0., 0., 0.],\n",
              "          ...,\n",
              "          [0., 0., 0.],\n",
              "          [0., 0., 0.],\n",
              "          [0., 0., 0.]],\n",
              "\n",
              "         [[0., 0., 0.],\n",
              "          [0., 0., 0.],\n",
              "          [0., 0., 0.],\n",
              "          ...,\n",
              "          [0., 0., 0.],\n",
              "          [0., 0., 0.],\n",
              "          [0., 0., 0.]]]])"
            ]
          },
          "metadata": {},
          "execution_count": 4
        }
      ]
    },
    {
      "cell_type": "markdown",
      "source": [
        "# **Segment 2: Tensor Operations**"
      ],
      "metadata": {
        "id": "vGbjfDB94VJH"
      }
    },
    {
      "cell_type": "markdown",
      "source": [
        "## Tensor Transposition"
      ],
      "metadata": {
        "id": "nB3zfdsq5JYt"
      }
    },
    {
      "cell_type": "code",
      "source": [
        "x = torch.tensor([[25, 2], [2, 26], [3, 7]])\n",
        "x"
      ],
      "metadata": {
        "colab": {
          "base_uri": "https://localhost:8080/"
        },
        "id": "RbRmYNJj4dHA",
        "outputId": "f8640c34-7725-49dc-d9ba-831a90475753"
      },
      "execution_count": null,
      "outputs": [
        {
          "output_type": "execute_result",
          "data": {
            "text/plain": [
              "tensor([[25,  2],\n",
              "        [ 2, 26],\n",
              "        [ 3,  7]])"
            ]
          },
          "metadata": {},
          "execution_count": 3
        }
      ]
    },
    {
      "cell_type": "code",
      "source": [
        "x.T"
      ],
      "metadata": {
        "colab": {
          "base_uri": "https://localhost:8080/"
        },
        "id": "GUfwbvE24px8",
        "outputId": "830822ce-a141-46ea-ff6e-b40d8a79c262"
      },
      "execution_count": null,
      "outputs": [
        {
          "output_type": "execute_result",
          "data": {
            "text/plain": [
              "tensor([[25,  2,  3],\n",
              "        [ 2, 26,  7]])"
            ]
          },
          "metadata": {},
          "execution_count": 4
        }
      ]
    },
    {
      "cell_type": "markdown",
      "source": [
        "## Basic Tensor Arithmetic"
      ],
      "metadata": {
        "id": "Ik_8unJK7Sbx"
      }
    },
    {
      "cell_type": "code",
      "source": [
        "x*2"
      ],
      "metadata": {
        "colab": {
          "base_uri": "https://localhost:8080/"
        },
        "id": "lFod_oMu5HS4",
        "outputId": "583d3670-07ff-450c-b612-1647020ee6b6"
      },
      "execution_count": null,
      "outputs": [
        {
          "output_type": "execute_result",
          "data": {
            "text/plain": [
              "tensor([[50,  4],\n",
              "        [ 4, 52],\n",
              "        [ 6, 14]])"
            ]
          },
          "metadata": {},
          "execution_count": 5
        }
      ]
    },
    {
      "cell_type": "code",
      "source": [
        "x+2"
      ],
      "metadata": {
        "colab": {
          "base_uri": "https://localhost:8080/"
        },
        "id": "-fYnxPjQ7amJ",
        "outputId": "88f83dcd-91b4-48b4-e5bd-161867e1c503"
      },
      "execution_count": null,
      "outputs": [
        {
          "output_type": "execute_result",
          "data": {
            "text/plain": [
              "tensor([[27,  4],\n",
              "        [ 4, 28],\n",
              "        [ 5,  9]])"
            ]
          },
          "metadata": {},
          "execution_count": 6
        }
      ]
    },
    {
      "cell_type": "code",
      "source": [
        "x*2+2"
      ],
      "metadata": {
        "colab": {
          "base_uri": "https://localhost:8080/"
        },
        "id": "VQNErole7cSI",
        "outputId": "b489070b-b145-489c-c741-08767528a937"
      },
      "execution_count": null,
      "outputs": [
        {
          "output_type": "execute_result",
          "data": {
            "text/plain": [
              "tensor([[52,  6],\n",
              "        [ 6, 54],\n",
              "        [ 8, 16]])"
            ]
          },
          "metadata": {},
          "execution_count": 7
        }
      ]
    },
    {
      "cell_type": "code",
      "source": [
        "torch.add(torch.mul(x, 2), 2)"
      ],
      "metadata": {
        "colab": {
          "base_uri": "https://localhost:8080/"
        },
        "id": "UtxDILXF7d5A",
        "outputId": "32743767-a706-4479-e246-e1593cc5cb96"
      },
      "execution_count": null,
      "outputs": [
        {
          "output_type": "execute_result",
          "data": {
            "text/plain": [
              "tensor([[52,  6],\n",
              "        [ 6, 54],\n",
              "        [ 8, 16]])"
            ]
          },
          "metadata": {},
          "execution_count": 8
        }
      ]
    },
    {
      "cell_type": "markdown",
      "source": [
        "## Hadamard Product or Element-wise Product"
      ],
      "metadata": {
        "id": "URQfVW2L-ftO"
      }
    },
    {
      "cell_type": "code",
      "source": [
        "x"
      ],
      "metadata": {
        "colab": {
          "base_uri": "https://localhost:8080/"
        },
        "id": "QWD6a3cf7yOj",
        "outputId": "a7ec5c7e-576f-43f7-e21c-9c0175459d2b"
      },
      "execution_count": null,
      "outputs": [
        {
          "output_type": "execute_result",
          "data": {
            "text/plain": [
              "tensor([[25,  2],\n",
              "        [ 2, 26],\n",
              "        [ 3,  7]])"
            ]
          },
          "metadata": {},
          "execution_count": 9
        }
      ]
    },
    {
      "cell_type": "code",
      "source": [
        "A = x + 2\n",
        "A"
      ],
      "metadata": {
        "colab": {
          "base_uri": "https://localhost:8080/"
        },
        "id": "SAzMG7b--lQ4",
        "outputId": "3f541b02-b0f6-4516-da02-aa45c0b1b503"
      },
      "execution_count": null,
      "outputs": [
        {
          "output_type": "execute_result",
          "data": {
            "text/plain": [
              "tensor([[27,  4],\n",
              "        [ 4, 28],\n",
              "        [ 5,  9]])"
            ]
          },
          "metadata": {},
          "execution_count": 10
        }
      ]
    },
    {
      "cell_type": "code",
      "source": [
        "A + x"
      ],
      "metadata": {
        "colab": {
          "base_uri": "https://localhost:8080/"
        },
        "id": "L211IDYT-nSo",
        "outputId": "0eeb134a-b483-4352-da88-87d0f2bacfdf"
      },
      "execution_count": null,
      "outputs": [
        {
          "output_type": "execute_result",
          "data": {
            "text/plain": [
              "tensor([[52,  6],\n",
              "        [ 6, 54],\n",
              "        [ 8, 16]])"
            ]
          },
          "metadata": {},
          "execution_count": 11
        }
      ]
    },
    {
      "cell_type": "code",
      "source": [
        "A * x"
      ],
      "metadata": {
        "colab": {
          "base_uri": "https://localhost:8080/"
        },
        "id": "Sz9MgRWB-pRH",
        "outputId": "bcf0af25-6551-41a9-f4ad-058661fe6fdf"
      },
      "execution_count": null,
      "outputs": [
        {
          "output_type": "execute_result",
          "data": {
            "text/plain": [
              "tensor([[675,   8],\n",
              "        [  8, 728],\n",
              "        [ 15,  63]])"
            ]
          },
          "metadata": {},
          "execution_count": 12
        }
      ]
    },
    {
      "cell_type": "markdown",
      "source": [
        "## Reduction"
      ],
      "metadata": {
        "id": "C6tr8hwG_1u8"
      }
    },
    {
      "cell_type": "code",
      "source": [
        "x"
      ],
      "metadata": {
        "colab": {
          "base_uri": "https://localhost:8080/"
        },
        "id": "0uz-2Rgh-qhI",
        "outputId": "d3112f27-de7f-4416-c417-67156e17fbbc"
      },
      "execution_count": null,
      "outputs": [
        {
          "output_type": "execute_result",
          "data": {
            "text/plain": [
              "tensor([[25,  2],\n",
              "        [ 2, 26],\n",
              "        [ 3,  7]])"
            ]
          },
          "metadata": {},
          "execution_count": 13
        }
      ]
    },
    {
      "cell_type": "code",
      "source": [
        "torch.sum(x)"
      ],
      "metadata": {
        "colab": {
          "base_uri": "https://localhost:8080/"
        },
        "id": "hWuiTisk_7ED",
        "outputId": "375d7b1e-fb13-44fd-9afc-603d882ab1df"
      },
      "execution_count": null,
      "outputs": [
        {
          "output_type": "execute_result",
          "data": {
            "text/plain": [
              "tensor(65)"
            ]
          },
          "metadata": {},
          "execution_count": 14
        }
      ]
    },
    {
      "cell_type": "code",
      "source": [
        "torch.sum(x, 0)"
      ],
      "metadata": {
        "colab": {
          "base_uri": "https://localhost:8080/"
        },
        "id": "KDbCxeFp_96L",
        "outputId": "3fc6bbd1-7503-46d8-cb93-555760322638"
      },
      "execution_count": null,
      "outputs": [
        {
          "output_type": "execute_result",
          "data": {
            "text/plain": [
              "tensor([30, 35])"
            ]
          },
          "metadata": {},
          "execution_count": 15
        }
      ]
    },
    {
      "cell_type": "code",
      "source": [
        "torch.sum(x, 1)"
      ],
      "metadata": {
        "colab": {
          "base_uri": "https://localhost:8080/"
        },
        "id": "xYiHVQyQAnkP",
        "outputId": "4814d49b-3271-4463-da43-bc114f8d56a3"
      },
      "execution_count": null,
      "outputs": [
        {
          "output_type": "execute_result",
          "data": {
            "text/plain": [
              "tensor([27, 28, 10])"
            ]
          },
          "metadata": {},
          "execution_count": 16
        }
      ]
    },
    {
      "cell_type": "markdown",
      "source": [
        "## The Dot Product"
      ],
      "metadata": {
        "id": "TYrkk6mlDV-t"
      }
    },
    {
      "cell_type": "code",
      "source": [
        "x = torch.tensor([25, 2, 5])\n",
        "x"
      ],
      "metadata": {
        "colab": {
          "base_uri": "https://localhost:8080/"
        },
        "id": "nLf7Puy_ApKe",
        "outputId": "e8364657-2684-4e81-86f4-7dbc7e179ba2"
      },
      "execution_count": null,
      "outputs": [
        {
          "output_type": "execute_result",
          "data": {
            "text/plain": [
              "tensor([25,  2,  5])"
            ]
          },
          "metadata": {},
          "execution_count": 17
        }
      ]
    },
    {
      "cell_type": "code",
      "source": [
        "y = torch.tensor([0,1,2])\n",
        "y"
      ],
      "metadata": {
        "colab": {
          "base_uri": "https://localhost:8080/"
        },
        "id": "LVfHxgMlDdcw",
        "outputId": "872d0b6d-4f93-493d-a8ae-f30d3d4dec6b"
      },
      "execution_count": null,
      "outputs": [
        {
          "output_type": "execute_result",
          "data": {
            "text/plain": [
              "tensor([0, 1, 2])"
            ]
          },
          "metadata": {},
          "execution_count": 19
        }
      ]
    },
    {
      "cell_type": "code",
      "source": [
        "torch.dot(torch.tensor([25 , 2 , 5.]), torch.tensor([0 , 1 , 2.]))"
      ],
      "metadata": {
        "colab": {
          "base_uri": "https://localhost:8080/"
        },
        "id": "bsyEazVXDhUT",
        "outputId": "f53b4e57-c715-4f66-a041-a6e54a12a8d0"
      },
      "execution_count": null,
      "outputs": [
        {
          "output_type": "execute_result",
          "data": {
            "text/plain": [
              "tensor(12.)"
            ]
          },
          "metadata": {},
          "execution_count": 24
        }
      ]
    },
    {
      "cell_type": "markdown",
      "source": [
        "# **Segment 3: Matrix Properties**"
      ],
      "metadata": {
        "id": "oEcdF3T0xO27"
      }
    },
    {
      "cell_type": "markdown",
      "source": [
        "## 1. Frobenius Norm"
      ],
      "metadata": {
        "id": "HH5PKuffxV8S"
      }
    },
    {
      "cell_type": "code",
      "source": [
        "x = torch.tensor([[2, 2.], [3, 4.]])\n",
        "x"
      ],
      "metadata": {
        "id": "egXZb8bwDlec",
        "colab": {
          "base_uri": "https://localhost:8080/"
        },
        "outputId": "eb216deb-b0eb-4ba2-cf1b-9221245a7b23"
      },
      "execution_count": null,
      "outputs": [
        {
          "output_type": "execute_result",
          "data": {
            "text/plain": [
              "tensor([[2., 2.],\n",
              "        [3., 4.]])"
            ]
          },
          "metadata": {},
          "execution_count": 4
        }
      ]
    },
    {
      "cell_type": "code",
      "source": [
        "torch.norm(x)"
      ],
      "metadata": {
        "colab": {
          "base_uri": "https://localhost:8080/"
        },
        "id": "RGZGw_dfxfHm",
        "outputId": "28d26630-58a6-4f77-f8c9-76a57b2ebd5e"
      },
      "execution_count": null,
      "outputs": [
        {
          "output_type": "execute_result",
          "data": {
            "text/plain": [
              "tensor(5.7446)"
            ]
          },
          "metadata": {},
          "execution_count": 5
        }
      ]
    },
    {
      "cell_type": "markdown",
      "source": [
        "## 2. Matrix Multiplication"
      ],
      "metadata": {
        "id": "GXDIMIb70X1R"
      }
    },
    {
      "cell_type": "code",
      "source": [
        "x = torch.tensor([[3, 4], [5, 6], [7, 8]])\n",
        "x"
      ],
      "metadata": {
        "colab": {
          "base_uri": "https://localhost:8080/"
        },
        "id": "ff8q_yayxhBX",
        "outputId": "ef977b1f-cf59-4689-e643-1b9e4674cf15"
      },
      "execution_count": null,
      "outputs": [
        {
          "output_type": "execute_result",
          "data": {
            "text/plain": [
              "tensor([[3, 4],\n",
              "        [5, 6],\n",
              "        [7, 8]])"
            ]
          },
          "metadata": {},
          "execution_count": 6
        }
      ]
    },
    {
      "cell_type": "code",
      "source": [
        "y = torch.tensor([1, 2])\n",
        "y"
      ],
      "metadata": {
        "colab": {
          "base_uri": "https://localhost:8080/"
        },
        "id": "Sen33x210hsl",
        "outputId": "f889e661-63f1-4354-e823-b9b9760c0e7c"
      },
      "execution_count": null,
      "outputs": [
        {
          "output_type": "execute_result",
          "data": {
            "text/plain": [
              "tensor([1, 2])"
            ]
          },
          "metadata": {},
          "execution_count": 7
        }
      ]
    },
    {
      "cell_type": "code",
      "source": [
        "torch.matmul(x,y)"
      ],
      "metadata": {
        "colab": {
          "base_uri": "https://localhost:8080/"
        },
        "id": "1yyFkoh10l1t",
        "outputId": "17c05794-63c6-4d2b-eb4f-0c494151c0b1"
      },
      "execution_count": null,
      "outputs": [
        {
          "output_type": "execute_result",
          "data": {
            "text/plain": [
              "tensor([11, 17, 23])"
            ]
          },
          "metadata": {},
          "execution_count": 8
        }
      ]
    },
    {
      "cell_type": "code",
      "source": [
        "y = torch.tensor([[1, 9], [2, 0]])\n",
        "y"
      ],
      "metadata": {
        "colab": {
          "base_uri": "https://localhost:8080/"
        },
        "id": "4breEwfa1DkA",
        "outputId": "093ef52b-9746-46c3-e8e2-9dc08b3bc5d2"
      },
      "execution_count": null,
      "outputs": [
        {
          "output_type": "execute_result",
          "data": {
            "text/plain": [
              "tensor([[1, 9],\n",
              "        [2, 0]])"
            ]
          },
          "metadata": {},
          "execution_count": 10
        }
      ]
    },
    {
      "cell_type": "code",
      "source": [
        "torch.matmul(x, y)"
      ],
      "metadata": {
        "colab": {
          "base_uri": "https://localhost:8080/"
        },
        "id": "ljeBA-Aw8gdm",
        "outputId": "7139936f-2600-4b56-8b17-1c55841e40d6"
      },
      "execution_count": null,
      "outputs": [
        {
          "output_type": "execute_result",
          "data": {
            "text/plain": [
              "tensor([[11, 27],\n",
              "        [17, 45],\n",
              "        [23, 63]])"
            ]
          },
          "metadata": {},
          "execution_count": 11
        }
      ]
    },
    {
      "cell_type": "code",
      "source": [
        "import numpy as np"
      ],
      "metadata": {
        "id": "maIgkmE58jzO"
      },
      "execution_count": 2,
      "outputs": []
    },
    {
      "cell_type": "code",
      "source": [
        "y = np.array([[2,3], [4, 5]])\n",
        "y"
      ],
      "metadata": {
        "colab": {
          "base_uri": "https://localhost:8080/"
        },
        "id": "g7oA-IPr94_J",
        "outputId": "217cac0f-6883-424b-a079-de979bc6a497"
      },
      "execution_count": null,
      "outputs": [
        {
          "output_type": "execute_result",
          "data": {
            "text/plain": [
              "array([[2, 3],\n",
              "       [4, 5]])"
            ]
          },
          "metadata": {},
          "execution_count": 13
        }
      ]
    },
    {
      "cell_type": "code",
      "source": [
        "p = torch.from_numpy(y)\n",
        "p"
      ],
      "metadata": {
        "id": "lUvxCIeL99sn",
        "outputId": "fef0b6e5-3527-4c19-f849-fec99db5c1a8",
        "colab": {
          "base_uri": "https://localhost:8080/"
        }
      },
      "execution_count": null,
      "outputs": [
        {
          "output_type": "execute_result",
          "data": {
            "text/plain": [
              "tensor([[2, 3],\n",
              "        [4, 5]])"
            ]
          },
          "metadata": {},
          "execution_count": 15
        }
      ]
    },
    {
      "cell_type": "markdown",
      "source": [
        "## 2. Symmetric Matrix"
      ],
      "metadata": {
        "id": "qwvNx_80twb3"
      }
    },
    {
      "cell_type": "code",
      "source": [
        "sym = torch.tensor([[0, 1, 2], [1, 7, 8], [2, 8, 9]])\n",
        "sym"
      ],
      "metadata": {
        "id": "TNY9FCRh-AzY",
        "colab": {
          "base_uri": "https://localhost:8080/"
        },
        "outputId": "9d0f0461-a8cd-49fb-dbf0-66a1eaa026df"
      },
      "execution_count": 3,
      "outputs": [
        {
          "output_type": "execute_result",
          "data": {
            "text/plain": [
              "tensor([[0, 1, 2],\n",
              "        [1, 7, 8],\n",
              "        [2, 8, 9]])"
            ]
          },
          "metadata": {},
          "execution_count": 3
        }
      ]
    },
    {
      "cell_type": "code",
      "source": [
        "sym.T"
      ],
      "metadata": {
        "colab": {
          "base_uri": "https://localhost:8080/"
        },
        "id": "5YUCKTMruCFR",
        "outputId": "16b5680e-09de-4039-8b40-a17f9af3a338"
      },
      "execution_count": 4,
      "outputs": [
        {
          "output_type": "execute_result",
          "data": {
            "text/plain": [
              "tensor([[0, 1, 2],\n",
              "        [1, 7, 8],\n",
              "        [2, 8, 9]])"
            ]
          },
          "metadata": {},
          "execution_count": 4
        }
      ]
    },
    {
      "cell_type": "code",
      "source": [
        "sym.T == sym"
      ],
      "metadata": {
        "colab": {
          "base_uri": "https://localhost:8080/"
        },
        "id": "bL7k2gciuDaX",
        "outputId": "129eb079-c11b-405e-d5d3-c37efa1414dc"
      },
      "execution_count": 5,
      "outputs": [
        {
          "output_type": "execute_result",
          "data": {
            "text/plain": [
              "tensor([[True, True, True],\n",
              "        [True, True, True],\n",
              "        [True, True, True]])"
            ]
          },
          "metadata": {},
          "execution_count": 5
        }
      ]
    },
    {
      "cell_type": "markdown",
      "source": [
        "## 3. Identity Matrix"
      ],
      "metadata": {
        "id": "LxLwjX11vEDG"
      }
    },
    {
      "cell_type": "code",
      "source": [
        "id = torch.tensor([[1, 0, 0], [0, 1, 0], [0, 0, 1]])\n",
        "id"
      ],
      "metadata": {
        "colab": {
          "base_uri": "https://localhost:8080/"
        },
        "id": "P6YokghUuHJb",
        "outputId": "249a997f-2202-4d0e-9671-f66e07bb21f3"
      },
      "execution_count": 7,
      "outputs": [
        {
          "output_type": "execute_result",
          "data": {
            "text/plain": [
              "tensor([[1, 0, 0],\n",
              "        [0, 1, 0],\n",
              "        [0, 0, 1]])"
            ]
          },
          "metadata": {},
          "execution_count": 7
        }
      ]
    },
    {
      "cell_type": "code",
      "source": [
        "m = torch.tensor([12, 3, 2])\n",
        "m"
      ],
      "metadata": {
        "colab": {
          "base_uri": "https://localhost:8080/"
        },
        "id": "7WPMb5XQvHFw",
        "outputId": "a2043725-08f2-40e3-99e8-35d645e7650f"
      },
      "execution_count": 8,
      "outputs": [
        {
          "output_type": "execute_result",
          "data": {
            "text/plain": [
              "tensor([12,  3,  2])"
            ]
          },
          "metadata": {},
          "execution_count": 8
        }
      ]
    },
    {
      "cell_type": "code",
      "source": [
        "torch.matmul(id, m)"
      ],
      "metadata": {
        "colab": {
          "base_uri": "https://localhost:8080/"
        },
        "id": "fcBaZZdQ3NGT",
        "outputId": "5ed9563d-194d-4b33-bce9-745bd584cef3"
      },
      "execution_count": 9,
      "outputs": [
        {
          "output_type": "execute_result",
          "data": {
            "text/plain": [
              "tensor([12,  3,  2])"
            ]
          },
          "metadata": {},
          "execution_count": 9
        }
      ]
    },
    {
      "cell_type": "markdown",
      "source": [
        "## 4. Matrix Inversion"
      ],
      "metadata": {
        "id": "nY0ZLs1y8flh"
      }
    },
    {
      "cell_type": "code",
      "source": [
        "x = torch.tensor([[4, 2], [-5, -3.]])\n",
        "x"
      ],
      "metadata": {
        "colab": {
          "base_uri": "https://localhost:8080/"
        },
        "id": "JH_BHjN33RzZ",
        "outputId": "b21b3826-2fc8-4d3e-ff3e-da22c72494a5"
      },
      "execution_count": 12,
      "outputs": [
        {
          "output_type": "execute_result",
          "data": {
            "text/plain": [
              "tensor([[ 4.,  2.],\n",
              "        [-5., -3.]])"
            ]
          },
          "metadata": {},
          "execution_count": 12
        }
      ]
    },
    {
      "cell_type": "code",
      "source": [
        "x_inv = torch.inverse(x)\n",
        "x_inv"
      ],
      "metadata": {
        "colab": {
          "base_uri": "https://localhost:8080/"
        },
        "id": "V_J48Kd08ncl",
        "outputId": "55b3f287-7547-4b3c-ac2f-1295a27cd105"
      },
      "execution_count": 13,
      "outputs": [
        {
          "output_type": "execute_result",
          "data": {
            "text/plain": [
              "tensor([[ 1.5000,  1.0000],\n",
              "        [-2.5000, -2.0000]])"
            ]
          },
          "metadata": {},
          "execution_count": 13
        }
      ]
    },
    {
      "cell_type": "code",
      "source": [
        "y = torch.tensor([4, -7.])\n",
        "y"
      ],
      "metadata": {
        "colab": {
          "base_uri": "https://localhost:8080/"
        },
        "id": "kkQEIsSA8qvX",
        "outputId": "c6c2a761-cc68-4093-a24a-fb10005d0255"
      },
      "execution_count": 14,
      "outputs": [
        {
          "output_type": "execute_result",
          "data": {
            "text/plain": [
              "tensor([ 4., -7.])"
            ]
          },
          "metadata": {},
          "execution_count": 14
        }
      ]
    },
    {
      "cell_type": "code",
      "source": [
        "w = torch.matmul(x_inv, y)\n",
        "w"
      ],
      "metadata": {
        "colab": {
          "base_uri": "https://localhost:8080/"
        },
        "id": "i5YiwX3b80e2",
        "outputId": "fa275cbd-2695-4926-9be8-b6808c697325"
      },
      "execution_count": 16,
      "outputs": [
        {
          "output_type": "execute_result",
          "data": {
            "text/plain": [
              "tensor([-1.,  4.])"
            ]
          },
          "metadata": {},
          "execution_count": 16
        }
      ]
    },
    {
      "cell_type": "code",
      "source": [],
      "metadata": {
        "id": "2EYrSZyJ84Ff"
      },
      "execution_count": null,
      "outputs": []
    }
  ]
}